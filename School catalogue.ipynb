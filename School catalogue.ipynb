{
 "cells": [
  {
   "cell_type": "markdown",
   "id": "7393c143",
   "metadata": {},
   "source": [
    "### Import libraries"
   ]
  },
  {
   "cell_type": "code",
   "execution_count": null,
   "id": "1a2ffc41",
   "metadata": {},
   "outputs": [],
   "source": []
  },
  {
   "cell_type": "markdown",
   "id": "9fdc12dc",
   "metadata": {},
   "source": [
    "### create student class"
   ]
  },
  {
   "cell_type": "code",
   "execution_count": 35,
   "id": "553aa2b6",
   "metadata": {},
   "outputs": [],
   "source": [
    "class School:\n",
    "    def __init__(self,name,level,numberOfStudents):\n",
    "        self.name = name\n",
    "        self.level = level\n",
    "        self.numberOfStudents = numberOfStudents\n",
    "    def getName(self):\n",
    "        return self.name\n",
    "    def getLevel(self):\n",
    "        return self.level\n",
    "    def getNumberOfStudents(self):\n",
    "        return self.numberOfStudents\n",
    "    def setNumberOfStudents(self,Nstudents):\n",
    "        self.numberOfStudents = Nstudents\n",
    "    def __repr__(self):\n",
    "        return \"A {} school named {} with {} students.\".format(self.level,self.name,self.numberOfStudents)\n",
    "        \n",
    "    "
   ]
  },
  {
   "cell_type": "code",
   "execution_count": 36,
   "id": "a3507134",
   "metadata": {},
   "outputs": [
    {
     "data": {
      "text/plain": [
       "A prrr school named jjjjj with 5 students."
      ]
     },
     "execution_count": 36,
     "metadata": {},
     "output_type": "execute_result"
    }
   ],
   "source": [
    "#test shool code\n",
    "s1 = School(\"jjjjj\",\"prrr\",5)\n",
    "s1"
   ]
  },
  {
   "cell_type": "markdown",
   "id": "83ed2cf8",
   "metadata": {},
   "source": [
    "### PrimarySchool class"
   ]
  },
  {
   "cell_type": "code",
   "execution_count": 37,
   "id": "1da42195",
   "metadata": {},
   "outputs": [],
   "source": [
    "class PrimarySchool(School):\n",
    "    def __init__(self,name,numberOfStudents,pickupPolicy):\n",
    "        super().__init__(name,\"primary\",numberOfStudents)\n",
    "        self.pickupPolicy = pickupPolicy\n",
    "    def getpickupPolicy(self):\n",
    "        return self.pickupPolicy\n",
    "#     def setpickupPolicy(self,newpickup):\n",
    "#         self.pickupPolicy =newpickup\n",
    "    def __repr__(self):\n",
    "        parentRepr = super().__repr__()\n",
    "        return parentRepr + \"The pickup policy is {pickupPolicy}\".format(pickupPolicy = self.pickupPolicy)   \n",
    "    "
   ]
  },
  {
   "cell_type": "code",
   "execution_count": 40,
   "id": "b57db7e2",
   "metadata": {},
   "outputs": [
    {
     "name": "stdout",
     "output_type": "stream",
     "text": [
      "pick your boy\n"
     ]
    },
    {
     "data": {
      "text/plain": [
       "A primary school named kjijk with 5 students.The pickup policy is pick your boy"
      ]
     },
     "execution_count": 40,
     "metadata": {},
     "output_type": "execute_result"
    }
   ],
   "source": [
    "# test primary school\n",
    "p1 = PrimarySchool(\"kjijk\",5,\"pick your boy\")\n",
    "print(p1.getpickupPolicy())\n",
    "p1"
   ]
  },
  {
   "cell_type": "markdown",
   "id": "ca1b50b9",
   "metadata": {},
   "source": [
    "### HighSchool class"
   ]
  },
  {
   "cell_type": "code",
   "execution_count": 41,
   "id": "14d7aa6b",
   "metadata": {},
   "outputs": [],
   "source": [
    "class HighSchool(School):\n",
    "    def __init__(self,name,numberOfStudents,sportsTeams):\n",
    "        super().__init__(name,\"highschool\",numberOfStudents)\n",
    "        self.sportsTeams = sportsTeams\n",
    "    def getSportsTeams(self):\n",
    "        return self.sportsTeams\n",
    "    def __repr__(self):\n",
    "        parentRepr = super().__repr__()\n",
    "        return parentRepr + \"The sports teams are {sportsTeams}\".format(sportsTeams = self.sportsTeams)"
   ]
  },
  {
   "cell_type": "code",
   "execution_count": 42,
   "id": "2c86b62b",
   "metadata": {},
   "outputs": [
    {
     "name": "stdout",
     "output_type": "stream",
     "text": [
      "['Tennis', 'Basketball']\n",
      "1\n"
     ]
    }
   ],
   "source": [
    "h1 =HighSchool(\"Codecademy High\", 500, [\"Tennis\", \"Basketball\"])\n",
    "print(h1.getSportsTeams())\n",
    "print(1)"
   ]
  },
  {
   "cell_type": "code",
   "execution_count": null,
   "id": "0900e95f",
   "metadata": {},
   "outputs": [],
   "source": []
  }
 ],
 "metadata": {
  "kernelspec": {
   "display_name": "Python 3",
   "language": "python",
   "name": "python3"
  },
  "language_info": {
   "codemirror_mode": {
    "name": "ipython",
    "version": 3
   },
   "file_extension": ".py",
   "mimetype": "text/x-python",
   "name": "python",
   "nbconvert_exporter": "python",
   "pygments_lexer": "ipython3",
   "version": "3.8.8"
  }
 },
 "nbformat": 4,
 "nbformat_minor": 5
}
